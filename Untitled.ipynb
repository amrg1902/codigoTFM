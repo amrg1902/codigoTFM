{
 "cells": [
  {
   "cell_type": "code",
   "execution_count": 26,
   "id": "cc4f4011",
   "metadata": {},
   "outputs": [
    {
     "name": "stdout",
     "output_type": "stream",
     "text": [
      "0    float64\n",
      "1    float64\n",
      "2    float64\n",
      "3    float64\n",
      "4    float64\n",
      "5    float64\n",
      "6    float64\n",
      "7    float64\n",
      "8    float64\n",
      "9    float64\n",
      "dtype: object\n"
     ]
    }
   ],
   "source": [
    "import pandas as pd\n",
    "from sklearn.datasets import load_diabetes\n",
    "\n",
    "# Cargar el conjunto de datos\n",
    "data_diabetes = load_diabetes()\n",
    "X_diabetes = pd.DataFrame(data_diabetes.data)#, columns=[f'feature_{i}' for i in range(1, 11)])\n",
    "\n",
    "# Mostrar tipos de datos de cada columna\n",
    "print(X_diabetes.dtypes)\n"
   ]
  },
  {
   "cell_type": "code",
   "execution_count": 28,
   "id": "df6a86da",
   "metadata": {},
   "outputs": [
    {
     "name": "stdout",
     "output_type": "stream",
     "text": [
      "          0         1         2         3         4         5         6  \\\n",
      "0  0.038076  0.050680  0.061696  0.021872 -0.044223 -0.034821 -0.043401   \n",
      "1 -0.001882 -0.044642 -0.051474 -0.026328 -0.008449 -0.019163  0.074412   \n",
      "2  0.085299  0.050680  0.044451 -0.005670 -0.045599 -0.034194 -0.032356   \n",
      "3 -0.089063 -0.044642 -0.011595 -0.036656  0.012191  0.024991 -0.036038   \n",
      "4  0.005383 -0.044642 -0.036385  0.021872  0.003935  0.015596  0.008142   \n",
      "\n",
      "          7         8         9  \n",
      "0 -0.002592  0.019907 -0.017646  \n",
      "1 -0.039493 -0.068332 -0.092204  \n",
      "2 -0.002592  0.002861 -0.025930  \n",
      "3  0.034309  0.022688 -0.009362  \n",
      "4 -0.002592 -0.031988 -0.046641  \n"
     ]
    }
   ],
   "source": [
    "print(X_diabetes.head(5))"
   ]
  },
  {
   "cell_type": "code",
   "execution_count": 31,
   "id": "b1b6ced1",
   "metadata": {},
   "outputs": [
    {
     "name": "stdout",
     "output_type": "stream",
     "text": [
      "        sex\n",
      "0  0.050680\n",
      "1 -0.044642\n",
      "2  0.050680\n",
      "3 -0.044642\n",
      "4 -0.044642\n"
     ]
    }
   ],
   "source": [
    "import pandas as pd\n",
    "from sklearn.datasets import load_diabetes\n",
    "\n",
    "# Cargar el conjunto de datos\n",
    "data_diabetes = load_diabetes()\n",
    "X_diabetes = pd.DataFrame(data_diabetes.data, columns=[f'feature_{i}' for i in range(1, 11)])\n",
    "y_diabetes = pd.Series(data_diabetes.target, name='target')\n",
    "\n",
    "# Agregar la columna 'sex' al DataFrame\n",
    "X_diabetes['sex'] = data_diabetes.data[:, 1]  # La columna 'sex' está en la posición 1 del conjunto de datos original\n",
    "\n",
    "# Muestra las primeras filas del DataFrame con la columna 'sex'\n",
    "print(X_diabetes[['sex']].head())\n"
   ]
  },
  {
   "cell_type": "code",
   "execution_count": 32,
   "id": "5cccb2b3",
   "metadata": {},
   "outputs": [
    {
     "name": "stdout",
     "output_type": "stream",
     "text": [
      "0      151.0\n",
      "1       75.0\n",
      "2      141.0\n",
      "3      206.0\n",
      "4      135.0\n",
      "       ...  \n",
      "437    178.0\n",
      "438    104.0\n",
      "439    132.0\n",
      "440    220.0\n",
      "441     57.0\n",
      "Name: target, Length: 442, dtype: float64\n"
     ]
    }
   ],
   "source": [
    "print(y_diabetes)"
   ]
  },
  {
   "cell_type": "code",
   "execution_count": null,
   "id": "373a038e",
   "metadata": {},
   "outputs": [],
   "source": []
  }
 ],
 "metadata": {
  "kernelspec": {
   "display_name": "Python 3 (ipykernel)",
   "language": "python",
   "name": "python3"
  },
  "language_info": {
   "codemirror_mode": {
    "name": "ipython",
    "version": 3
   },
   "file_extension": ".py",
   "mimetype": "text/x-python",
   "name": "python",
   "nbconvert_exporter": "python",
   "pygments_lexer": "ipython3",
   "version": "3.9.13"
  }
 },
 "nbformat": 4,
 "nbformat_minor": 5
}
