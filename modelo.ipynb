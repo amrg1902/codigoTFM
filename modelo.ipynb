{
 "cells": [
  {
   "cell_type": "code",
   "execution_count": 16,
   "metadata": {},
   "outputs": [],
   "source": [
    "import mlflow\n",
    "import mlflow.pyfunc\n",
    "import mlflow.sklearn\n",
    "import pandas as pd\n",
    "from sklearn.datasets import load_iris\n",
    "from sklearn.model_selection import train_test_split\n",
    "from sklearn.neighbors import KNeighborsClassifier\n",
    "from sklearn.metrics import accuracy_score\n",
    "\n",
    "# Inicia una corrida de MLflow\n",
    "with mlflow.start_run():\n",
    "    # Carga y preprocesa el dataset\n",
    "    iris = load_iris()\n",
    "    data = pd.DataFrame(data=iris.data, columns=iris.feature_names)\n",
    "    target = iris.target\n",
    "\n",
    "    # Divide el dataset en conjuntos de entrenamiento y prueba\n",
    "    X_train, X_test, y_train, y_test = train_test_split(data, target, test_size=0.2, random_state=42)\n",
    "\n",
    "    # Entrena tu modelo\n",
    "    model = KNeighborsClassifier(n_neighbors=3)\n",
    "    model.fit(X_train, y_train)\n",
    "\n",
    "    # Realiza predicciones en el conjunto de prueba\n",
    "    y_pred = model.predict(X_test)\n",
    "\n",
    "    # Calcula la precisión del modelo\n",
    "    accuracy = accuracy_score(y_test, y_pred)\n",
    "\n",
    "    # Registra el modelo en MLflow\n",
    "    mlflow.sklearn.log_model(sk_model=model, artifact_path=\"modelo\")\n",
    "\n",
    "    # Registra la métrica de precisión en MLflow\n",
    "    mlflow.log_metric(\"accuracy\", accuracy)\n"
   ]
  }
 ],
 "metadata": {
  "kernelspec": {
   "display_name": "Python 3 (ipykernel)",
   "language": "python",
   "name": "python3"
  },
  "language_info": {
   "codemirror_mode": {
    "name": "ipython",
    "version": 3
   },
   "file_extension": ".py",
   "mimetype": "text/x-python",
   "name": "python",
   "nbconvert_exporter": "python",
   "pygments_lexer": "ipython3",
   "version": "3.9.6"
  }
 },
 "nbformat": 4,
 "nbformat_minor": 2
}
